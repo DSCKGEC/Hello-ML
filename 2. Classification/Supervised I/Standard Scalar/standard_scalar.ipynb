{
  "nbformat": 4,
  "nbformat_minor": 0,
  "metadata": {
    "colab": {
      "name": "standard scalar",
      "provenance": [],
      "authorship_tag": "ABX9TyN/isvkjt/ky+DYMpHm12dP",
      "include_colab_link": true
    },
    "kernelspec": {
      "name": "python3",
      "display_name": "Python 3"
    },
    "language_info": {
      "name": "python"
    }
  },
  "cells": [
    {
      "cell_type": "markdown",
      "metadata": {
        "id": "view-in-github",
        "colab_type": "text"
      },
      "source": [
        "<a href=\"https://colab.research.google.com/github/dibyanshushekhardey/Hello-ML/blob/main/2.%20Classification/Supervised%20I/Standard%20Scalar/standard_scalar.ipynb\" target=\"_parent\"><img src=\"https://colab.research.google.com/assets/colab-badge.svg\" alt=\"Open In Colab\"/></a>"
      ]
    },
    {
      "cell_type": "code",
      "metadata": {
        "id": "BTOQkHfcG2Jm"
      },
      "source": [
        "from sklearn import datasets\n",
        "from sklearn.model_selection import train_test_split\n",
        "from sklearn.preprocessing import StandardScaler"
      ],
      "execution_count": 12,
      "outputs": []
    },
    {
      "cell_type": "code",
      "metadata": {
        "id": "pa-_vbR_G-Jw"
      },
      "source": [
        "#Load iris dataset\n",
        "iris = datasets.load_iris()\n",
        "X = iris.data \n",
        "y = iris.target"
      ],
      "execution_count": 13,
      "outputs": []
    },
    {
      "cell_type": "code",
      "metadata": {
        "id": "neSxLps5HH6j"
      },
      "source": [
        "#Importing standard scalaer function \n",
        "scaler = StandardScaler()"
      ],
      "execution_count": 14,
      "outputs": []
    },
    {
      "cell_type": "code",
      "metadata": {
        "id": "PFMYFhW0HDbp"
      },
      "source": [
        "#Splitting the data\n",
        "X_train, X_test, y_train, y_test = train_test_split(X, y, test_size=0.20)"
      ],
      "execution_count": 15,
      "outputs": []
    },
    {
      "cell_type": "code",
      "metadata": {
        "id": "PqZ9YT3jHXks"
      },
      "source": [
        "#Fitting the data\n",
        "scaler.fit(X_train)\n",
        "X_train_std = scaler.transform(X_train)\n",
        "X_test_std = scaler.transform(X_test)"
      ],
      "execution_count": 19,
      "outputs": []
    },
    {
      "cell_type": "code",
      "metadata": {
        "colab": {
          "base_uri": "https://localhost:8080/"
        },
        "id": "A96PI3w4HlIZ",
        "outputId": "89a7b6a0-a7d9-4fa8-f1a4-cbde97c2f0f0"
      },
      "source": [
        "#observing the standardised scaled data\n",
        "print(); print(X_train[0:5])\n",
        "print(); print(X_train_std[0:5])\n",
        "print(); print(X_test[0:5])\n",
        "print(); print(X_test_std[0:5])"
      ],
      "execution_count": 21,
      "outputs": [
        {
          "output_type": "stream",
          "text": [
            "\n",
            "[[6.1 2.8 4.7 1.2]\n",
            " [5.4 3.9 1.3 0.4]\n",
            " [6.9 3.1 5.1 2.3]\n",
            " [5.  3.5 1.3 0.3]\n",
            " [5.1 3.5 1.4 0.2]]\n",
            "\n",
            "[[ 0.34603161 -0.52238783  0.53629799 -0.00786531]\n",
            " [-0.5401469   2.00344344 -1.42964611 -1.08653674]\n",
            " [ 1.35880704  0.16647524  0.76758553  1.47530791]\n",
            " [-1.04653462  1.08495934 -1.42964611 -1.22137067]\n",
            " [-0.91993769  1.08495934 -1.37182423 -1.3562046 ]]\n",
            "\n",
            "[[6.8 2.8 4.8 1.4]\n",
            " [5.8 2.7 5.1 1.9]\n",
            " [7.7 3.8 6.7 2.2]\n",
            " [6.7 3.  5.2 2.3]\n",
            " [7.9 3.8 6.4 2. ]]\n",
            "\n",
            "[[ 1.23221011 -0.52238783  0.59411987  0.26180255]\n",
            " [-0.03375918 -0.75200885  0.76758553  0.93597219]\n",
            " [ 2.37158248  1.77382241  1.69273569  1.34047398]\n",
            " [ 1.10561318 -0.06314578  0.82540741  1.47530791]\n",
            " [ 2.62477634  1.77382241  1.51927003  1.07080612]]\n"
          ],
          "name": "stdout"
        }
      ]
    },
    {
      "cell_type": "code",
      "metadata": {
        "id": "FgSIE-wHHrUI"
      },
      "source": [
        ""
      ],
      "execution_count": null,
      "outputs": []
    }
  ]
}