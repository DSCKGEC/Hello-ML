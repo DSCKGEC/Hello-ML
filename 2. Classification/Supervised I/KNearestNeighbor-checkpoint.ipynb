{
 "cells": [
  {
   "cell_type": "code",
   "execution_count": 1,
   "metadata": {},
   "outputs": [],
   "source": [
    "import pandas as pd\n",
    "import numpy as np\n",
    "import sklearn"
   ]
  },
  {
   "cell_type": "code",
   "execution_count": 2,
   "metadata": {
    "scrolled": false
   },
   "outputs": [],
   "source": [
    "dt=pd.read_csv(\"iris.csv\")\n",
    "sl=dt.iloc[:,0]\n",
    "sw=dt.iloc[:,1]\n",
    "pl=dt.iloc[:,2]\n",
    "pw=dt.iloc[:,3]\n",
    "s=dt.iloc[:,4]\n",
    "sl=sl.tolist()\n",
    "sw=sw.tolist()\n",
    "pl=pl.tolist()\n",
    "pw=pw.tolist()\n",
    "s=s.tolist()\n"
   ]
  },
  {
   "cell_type": "code",
   "execution_count": 4,
   "metadata": {
    "scrolled": true
   },
   "outputs": [],
   "source": [
    "sl1=np.array(sl)\n",
    "sw1=np.array(sw)\n",
    "pl1=np.array(pl)\n",
    "pw1=np.array(pw)\n",
    "s1=np.array(s)\n",
    "sl1.resize(len(sl),1)\n",
    "sw1.resize(len(sl),1)\n",
    "pl1.resize(len(sl),1)\n",
    "pw1.resize(len(sl),1)\n",
    "\n",
    "x=np.hstack([sl1,sw1,pl1,pw1])\n",
    "\n"
   ]
  },
  {
   "cell_type": "code",
   "execution_count": 5,
   "metadata": {},
   "outputs": [],
   "source": [
    "from sklearn.model_selection import train_test_split\n",
    "xtn,xtt,stn,stt=train_test_split(x,s1,train_size=0.8,random_state=101)\n"
   ]
  },
  {
   "cell_type": "code",
   "execution_count": 6,
   "metadata": {
    "scrolled": true
   },
   "outputs": [
    {
     "name": "stdout",
     "output_type": "stream",
     "text": [
      "Percentage Accuracy =  93.33333333333333\n"
     ]
    }
   ],
   "source": [
    "from sklearn.neighbors import KNeighborsClassifier\n",
    "clf = KNeighborsClassifier(n_neighbors = 4)\n",
    "clf.fit(xtn,stn)\n",
    "\n",
    "tse = clf.score(xtt,stt)\n",
    "print(\"Percentage Accuracy = \",tse*100)\n"
   ]
  },
  {
   "cell_type": "code",
   "execution_count": null,
   "metadata": {},
   "outputs": [],
   "source": []
  }
 ],
 "metadata": {
  "kernelspec": {
   "display_name": "Python 3",
   "language": "python",
   "name": "python3"
  },
  "language_info": {
   "codemirror_mode": {
    "name": "ipython",
    "version": 3
   },
   "file_extension": ".py",
   "mimetype": "text/x-python",
   "name": "python",
   "nbconvert_exporter": "python",
   "pygments_lexer": "ipython3",
   "version": "3.8.5"
  }
 },
 "nbformat": 4,
 "nbformat_minor": 4
}
